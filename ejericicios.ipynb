{
 "cells": [
  {
   "cell_type": "code",
   "execution_count": 87,
   "metadata": {},
   "outputs": [
    {
     "ename": "",
     "evalue": "",
     "output_type": "error",
     "traceback": [
      "\u001b[1;31mRunning cells with 'Python 3.10.12' requires the ipykernel package.\n",
      "\u001b[1;31mRun the following command to install 'ipykernel' into the Python environment. \n",
      "\u001b[1;31mCommand: '/usr/bin/python3 -m pip install ipykernel -U --user --force-reinstall'"
     ]
    }
   ],
   "source": [
    "import sympy as sym\n",
    "from IPython.display import display, Math\n",
    "\n",
    "x, y, z, rho, phi, theta, r = sym.symbols('x y z rho phi theta r')\n",
    "ux, uy, uz, urho, uphi, utheta, ur = sym.symbols('ux uy uz urho uphi utheta ur')\n",
    "\n",
    "# # Establish the relations between the cartesian and the spherical unit vectors\n",
    "# x = rho * sym.sin(phi) * sym.cos(theta)\n",
    "# y = rho * sym.sin(phi) * sym.sin(theta)\n",
    "# z = rho * sym.cos(phi)\n",
    "\n",
    "# # Establish the relations between the cartesian and the cylindrical unit vectors\n",
    "# x = rho * sym.cos(phi)\n",
    "# y = rho * sym.sin(phi)\n",
    "# z = z\n",
    "\n",
    "# # Establish the relations between the spherical and the cartesian unit vectors\n",
    "# ur = sym.sin(phi) * sym.cos(theta) * ux + sym.sin(phi) * sym.sin(theta) * uy + sym.cos(phi) * uz\n",
    "# utheta = sym.cos(phi) * sym.cos(theta) * ux + sym.cos(phi) * sym.sin(theta) * uy - sym.sin(phi) * uz\n",
    "# uphi = -sym.sin(theta) * ux + sym.cos(theta) * uy\n",
    "\n",
    "# # Establish the relations between the cylindrical and the cartesian unit vectors\n",
    "# ur = sym.cos(phi) * ux + sym.sin(phi) * uy\n",
    "# uphi = -sym.sin(phi) * ux + sym.cos(phi) * uy\n",
    "# uz = uz\n",
    "\n",
    "\n",
    "def propa_grad(f, mode='cartesianas'):\n",
    "\n",
    "    if mode=='cartesianas':\n",
    "\n",
    "        f_grad = [f.diff(i) for i in (x, y, z)]\n",
    "        f_grad_unit = [f_grad[i] * [ux, uy, uz][i] for i in range(3)]\n",
    "        f_grad_result = sum(f_grad_unit)\n",
    "        display(Math('\\\\nabla f = ' + sym.latex(f_grad_result).replace('ux', '\\\\vec{u}_x').replace('uy', '\\\\vec{u}_y').replace('uz', '\\\\vec{u}_z')))\n",
    "        \n",
    "    elif mode=='esféricas':\n",
    "        f_grad = [f.diff(i) for i in (r, theta, phi)]\n",
    "        f_grad_unit = [f_grad[i] * [ur, utheta, uphi][i] for i in range(3)]\n",
    "        f_grad_result = sum(f_grad_unit)\n",
    "        display(Math('\\\\nabla f = ' + sym.latex(f_grad_result).replace('ur', '\\\\vec{u}_r').replace('utheta', '\\\\vec{u}_\\\\theta').replace('uphi', '\\\\vec{u}_\\\\phi')))\n",
    "\n",
    "    elif mode=='cilíndricas' or mode=='polares':\n",
    "        f_grad = [f.diff(i) for i in (rho, phi, z)]\n",
    "        f_grad_unit = [f_grad[i] * [urho, uphi, uz][i] for i in range(3)]\n",
    "        f_grad_result = sum(f_grad_unit)\n",
    "        display(Math('\\\\nabla f = ' + sym.latex(f_grad_result).replace('urho', '\\\\vec{u}_{\\\\rho}').replace('uphi', '\\\\vec{u}_\\\\phi').replace('uz', '\\\\vec{u}_z')))\n",
    "    \n",
    "    else:\n",
    "        print('Modo no reconocido')\n"
   ]
  },
  {
   "cell_type": "markdown",
   "metadata": {},
   "source": [
    "## 1.1. Gradiente de un campo escalar.\n",
    "\n",
    "- $f_1 = x^2y + xyz$\n",
    "- $f_2 = \\rho z \\sin \\varphi + z^2\\cos ^2 \\varphi + \\rho ^ 2$\n",
    "- $f_3 = \\cos \\theta \\sin \\varphi \\ln (r) + r^2 \\varphi$\n",
    "- $f_4 = \\sqrt{x^2 + y^2 + z^2}$\n",
    "- $f_5 = \\frac{1}{\\sqrt{x^2 + y^2 + z^2}}$"
   ]
  },
  {
   "cell_type": "code",
   "execution_count": null,
   "metadata": {},
   "outputs": [],
   "source": [
    "# Define the expressions as stated in previous cell\n",
    "f1 = x**2*y + x*y*z \n",
    "f2 = rho * z * sym.sin(phi) + z**2 * sym.cos(phi)**2 + rho**2\n",
    "propa_grad(f1, mode='cartesianas')\n",
    "propa_grad(f2, mode='polares')\n",
    "\n"
   ]
  },
  {
   "cell_type": "code",
   "execution_count": null,
   "metadata": {},
   "outputs": [],
   "source": [
    "a = r * ur + z * uz \n",
    "show(a)"
   ]
  }
 ],
 "metadata": {
  "kernelspec": {
   "display_name": ".venv",
   "language": "python",
   "name": "python3"
  },
  "language_info": {
   "codemirror_mode": {
    "name": "ipython",
    "version": 3
   },
   "file_extension": ".py",
   "mimetype": "text/x-python",
   "name": "python",
   "nbconvert_exporter": "python",
   "pygments_lexer": "ipython3",
   "version": "3.10.12"
  }
 },
 "nbformat": 4,
 "nbformat_minor": 2
}
