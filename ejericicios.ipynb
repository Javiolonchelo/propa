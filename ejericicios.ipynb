{
 "cells": [
  {
   "cell_type": "code",
   "execution_count": 7,
   "metadata": {},
   "outputs": [],
   "source": [
    "import sympy as sym\n",
    "from IPython.display import display, Math\n",
    "\n",
    "x, y, z, rho, phi, theta, r = sym.symbols('x y z rho phi theta r')\n",
    "ux, uy, uz, urho, uphi, utheta, ur = sym.symbols('ux uy uz urho uphi utheta ur')\n",
    "\n",
    "# # Establish the relations between the cartesian and the spherical unit vectors\n",
    "# x = rho * sym.sin(phi) * sym.cos(theta)\n",
    "# y = rho * sym.sin(phi) * sym.sin(theta)\n",
    "# z = rho * sym.cos(phi)\n",
    "\n",
    "# # Establish the relations between the cartesian and the cylindrical unit vectors\n",
    "# x = rho * sym.cos(phi)\n",
    "# y = rho * sym.sin(phi)\n",
    "# z = z\n",
    "\n",
    "# # Establish the relations between the spherical and the cartesian unit vectors\n",
    "# ur = sym.sin(phi) * sym.cos(theta) * ux + sym.sin(phi) * sym.sin(theta) * uy + sym.cos(phi) * uz\n",
    "# utheta = sym.cos(phi) * sym.cos(theta) * ux + sym.cos(phi) * sym.sin(theta) * uy - sym.sin(phi) * uz\n",
    "# uphi = -sym.sin(theta) * ux + sym.cos(theta) * uy\n",
    "\n",
    "# # Establish the relations between the cylindrical and the cartesian unit vectors\n",
    "# ur = sym.cos(phi) * ux + sym.sin(phi) * uy\n",
    "# uphi = -sym.sin(phi) * ux + sym.cos(phi) * uy\n",
    "# uz = uz\n",
    "\n",
    "\n",
    "def propa_grad(f, mode='cartesianas'):\n",
    "\n",
    "    if mode=='cartesianas':\n",
    "\n",
    "        f_grad = [f.diff(i) for i in (x, y, z)]\n",
    "        f_grad_unit = [f_grad[i] * [ux, uy, uz][i] for i in range(3)]\n",
    "        f_grad_result = sum(f_grad_unit)\n",
    "        display(Math('\\\\nabla f = ' + sym.latex(f_grad_result).replace('ux', '\\\\vec{u}_x').replace('uy', '\\\\vec{u}_y').replace('uz', '\\\\vec{u}_z')))\n",
    "        \n",
    "    elif mode=='esféricas':\n",
    "        f_grad = [f.diff(i) for i in (r, theta, phi)]\n",
    "        f_grad_unit = [f_grad[i] * [ur, utheta, uphi][i] for i in range(3)]\n",
    "        f_grad_result = sum(f_grad_unit)\n",
    "        display(Math('\\\\nabla f = ' + sym.latex(f_grad_result).replace('ur', '\\\\vec{u}_r').replace('utheta', '\\\\vec{u}_\\\\theta').replace('uphi', '\\\\vec{u}_\\\\phi')))\n",
    "\n",
    "    elif mode=='cilíndricas' or mode=='polares':\n",
    "        f_grad = [f.diff(i) for i in (rho, phi, z)]\n",
    "        f_grad_unit = [f_grad[i] * [urho, uphi, uz][i] for i in range(3)]\n",
    "        f_grad_result = sum(f_grad_unit)\n",
    "        display(Math('\\\\nabla f = ' + sym.latex(f_grad_result).replace('urho', '\\\\vec{u}_{\\\\rho}').replace('uphi', '\\\\vec{u}_\\\\phi').replace('uz', '\\\\vec{u}_z')))\n",
    "    \n",
    "    else:\n",
    "        print('Modo no reconocido')\n"
   ]
  },
  {
   "cell_type": "markdown",
   "metadata": {},
   "source": [
    "## 1.1. Gradiente de un campo escalar.\n",
    "\n",
    "- $f_1 = x^2y + xyz$\n",
    "- $f_2 = \\rho z \\sin \\varphi + z^2\\cos ^2 \\varphi + \\rho ^ 2$\n",
    "- $f_3 = \\cos \\theta \\sin \\varphi \\ln (r) + r^2 \\varphi$\n",
    "- $f_4 = \\sqrt{x^2 + y^2 + z^2}$\n",
    "- $f_5 = \\frac{1}{\\sqrt{x^2 + y^2 + z^2}}$"
   ]
  },
  {
   "cell_type": "code",
   "execution_count": 8,
   "metadata": {},
   "outputs": [
    {
     "data": {
      "text/latex": [
       "$\\displaystyle \\nabla f = \\vec{u}_x \\left(2 x y + y z\\right) + \\vec{u}_y \\left(x^{2} + x z\\right) + \\vec{u}_z x y$"
      ],
      "text/plain": [
       "<IPython.core.display.Math object>"
      ]
     },
     "metadata": {},
     "output_type": "display_data"
    },
    {
     "data": {
      "text/latex": [
       "$\\displaystyle \\nabla f = \\vec{u}_\\phi \\left(\\rho z \\cos{\\left(\\phi \\right)} - 2 z^{2} \\sin{\\left(\\phi \\right)} \\cos{\\left(\\phi \\right)}\\right) + \\vec{u}_{\\rho} \\left(2 \\rho + z \\sin{\\left(\\phi \\right)}\\right) + \\vec{u}_z \\left(\\rho \\sin{\\left(\\phi \\right)} + 2 z \\cos^{2}{\\left(\\phi \\right)}\\right)$"
      ],
      "text/plain": [
       "<IPython.core.display.Math object>"
      ]
     },
     "metadata": {},
     "output_type": "display_data"
    }
   ],
   "source": [
    "# Define the expressions as stated in previous cell\n",
    "f1 = x**2*y + x*y*z \n",
    "f2 = rho * z * sym.sin(phi) + z**2 * sym.cos(phi)**2 + rho**2\n",
    "propa_grad(f1, mode='cartesianas')\n",
    "propa_grad(f2, mode='polares')\n",
    "\n"
   ]
  },
  {
   "cell_type": "code",
   "execution_count": 9,
   "metadata": {},
   "outputs": [
    {
     "data": {
      "text/latex": [
       "$\\displaystyle ur \\sqrt{x^{2} + y^{2}} + uz z$"
      ],
      "text/plain": [
       "ur*sqrt(x**2 + y**2) + uz*z"
      ]
     },
     "metadata": {},
     "output_type": "display_data"
    }
   ],
   "source": [
    "a = r * ur + z * uz\n",
    "a = a.subs(r, sym.sqrt(x**2 + y**2))\n",
    "display(a)"
   ]
  }
 ],
 "metadata": {
  "kernelspec": {
   "display_name": ".venv",
   "language": "python",
   "name": "python3"
  },
  "language_info": {
   "codemirror_mode": {
    "name": "ipython",
    "version": 3
   },
   "file_extension": ".py",
   "mimetype": "text/x-python",
   "name": "python",
   "nbconvert_exporter": "python",
   "pygments_lexer": "ipython3",
   "version": "3.10.12"
  }
 },
 "nbformat": 4,
 "nbformat_minor": 2
}
